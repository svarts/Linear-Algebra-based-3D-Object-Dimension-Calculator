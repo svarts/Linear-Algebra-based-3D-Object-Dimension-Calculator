{
 "cells": [
  {
   "cell_type": "code",
   "execution_count": 1,
   "metadata": {},
   "outputs": [
    {
     "name": "stdout",
     "output_type": "stream",
     "text": [
      "Cube Dimensions (Length, Width, Height, Depth, Diagonal, Surface Area): (5.0, 5.0, 5.0, 5.0, 5.0, 5.0)\n",
      "Prism Dimensions (Length, Width, Height, Depth, Diagonal, Surface Area): (4.47213595499958, 4.47213595499958, 6, 5.999999999999999, 8.717797887081348, 147.3312629199899)\n",
      "Cylinder Dimensions (Length, Width, Height, Depth, Diagonal, Surface Area): (6, 6, 10, 5.305164769729845, 11.661903789690601, 245.04422698000386)\n"
     ]
    }
   ],
   "source": [
    "import numpy as np\n",
    "\n",
    "def calculate_cube_dimensions(volume):\n",
    "    # Calculate the length of one side of the cube (a)\n",
    "    a = np.cbrt(volume)\n",
    "    return a, a, a, a, a, a  # Length, Width, Height, Depth, Diagonal, Surface Area\n",
    "\n",
    "def calculate_prism_dimensions(volume, base_area, height):\n",
    "    # Calculate the length (a) and width (b) of the prism's base\n",
    "    a = np.sqrt(base_area)\n",
    "    b = base_area / a\n",
    "    depth = volume / (a * b)\n",
    "    diagonal = np.sqrt(a**2 + b**2 + height**2)\n",
    "    surface_area = 2 * (a*b + a*height + b*height)\n",
    "    return a, b, height, depth, diagonal, surface_area  # Length, Width, Height, Depth, Diagonal, Surface Area\n",
    "\n",
    "def calculate_cylinder_dimensions(volume, radius, height):\n",
    "    depth = volume / (np.pi * radius**2)\n",
    "    diagonal = np.sqrt(4*radius**2 + height**2)\n",
    "    surface_area = 2 * np.pi * radius * (radius + height)\n",
    "    return 2 * radius, 2 * radius, height, depth, diagonal, surface_area  # Length, Width, Height, Depth, Diagonal, Surface Area\n",
    "\n",
    "# Sample data\n",
    "cube_volume = 125  # Cube volume\n",
    "prism_volume = 120  # Prism volume \n",
    "cylinder_volume = 150  # Cylinder volume \n",
    "prism_base_area = 20  # Prism base area \n",
    "prism_height = 6  # Prism height \n",
    "cylinder_radius = 3  # Cylinder radius \n",
    "cylinder_height = 10  # Cylinder height \n",
    "\n",
    "# Calculate dimensions\n",
    "cube_dimensions = calculate_cube_dimensions(cube_volume)\n",
    "prism_dimensions = calculate_prism_dimensions(prism_volume, prism_base_area, prism_height)\n",
    "cylinder_dimensions = calculate_cylinder_dimensions(cylinder_volume, cylinder_radius, cylinder_height)\n",
    "\n",
    "print(\"Cube Dimensions (Length, Width, Height, Depth, Diagonal, Surface Area):\", cube_dimensions)\n",
    "print(\"Prism Dimensions (Length, Width, Height, Depth, Diagonal, Surface Area):\", prism_dimensions)\n",
    "print(\"Cylinder Dimensions (Length, Width, Height, Depth, Diagonal, Surface Area):\", cylinder_dimensions)\n"
   ]
  }
 ],
 "metadata": {
  "kernelspec": {
   "display_name": "Python 3",
   "language": "python",
   "name": "python3"
  },
  "language_info": {
   "codemirror_mode": {
    "name": "ipython",
    "version": 3
   },
   "file_extension": ".py",
   "mimetype": "text/x-python",
   "name": "python",
   "nbconvert_exporter": "python",
   "pygments_lexer": "ipython3",
   "version": "3.9.6"
  }
 },
 "nbformat": 4,
 "nbformat_minor": 2
}
